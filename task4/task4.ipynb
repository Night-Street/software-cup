{
 "cells": [
  {
   "cell_type": "code",
   "execution_count": null,
   "outputs": [],
   "source": [
    "from google.colab import drive\n",
    "drive.mount('/content/drive')"
   ],
   "metadata": {
    "collapsed": false,
    "pycharm": {
     "name": "#%%\n"
    }
   }
  },
  {
   "cell_type": "code",
   "execution_count": null,
   "outputs": [],
   "source": [
    "import os\n",
    "os.chdir(\"/content/drive/Othercomputers/陈成的thinkpad/software-cup\")"
   ],
   "metadata": {
    "collapsed": false,
    "pycharm": {
     "name": "#%%\n"
    }
   }
  },
  {
   "cell_type": "code",
   "execution_count": null,
   "outputs": [],
   "source": [
    "!pip install -r requirements.txt"
   ],
   "metadata": {
    "collapsed": false,
    "pycharm": {
     "name": "#%%\n"
    }
   }
  },
  {
   "cell_type": "code",
   "execution_count": null,
   "outputs": [],
   "source": [
    "import matplotlib.pyplot as plt\n",
    "import numpy as np\n",
    "import paddle\n",
    "import pandas as pd\n",
    "import seaborn as sns\n",
    "from matplotlib.gridspec import GridSpec"
   ],
   "metadata": {
    "collapsed": false,
    "pycharm": {
     "name": "#%%\n"
    }
   }
  },
  {
   "cell_type": "code",
   "execution_count": null,
   "outputs": [],
   "source": [
    "os.chdir(\"/content/drive/Othercomputers/陈成的thinkpad/software-cup/task4\")"
   ],
   "metadata": {
    "collapsed": false,
    "pycharm": {
     "name": "#%%\n"
    }
   }
  },
  {
   "cell_type": "code",
   "execution_count": null,
   "outputs": [],
   "source": [
    "# !pip list --format=columns"
   ],
   "metadata": {
    "collapsed": false,
    "pycharm": {
     "name": "#%%\n"
    }
   }
  },
  {
   "cell_type": "code",
   "execution_count": null,
   "outputs": [],
   "source": [
    "sns.__version__"
   ],
   "metadata": {
    "collapsed": false,
    "pycharm": {
     "name": "#%%\n"
    }
   }
  },
  {
   "cell_type": "code",
   "execution_count": null,
   "outputs": [],
   "source": [
    "data = pd.read_csv(\"../dataset/Tianchi_power.csv\", parse_dates=True)\n",
    "# data = pd.read_csv(\"../dataset/RjbPowerRecord.csv\", parse_dates=True)\n",
    "data[\"record_date\"] = pd.to_datetime(data[\"record_date\"])\n",
    "data.head()"
   ],
   "metadata": {
    "collapsed": false,
    "pycharm": {
     "name": "#%%\n"
    }
   }
  },
  {
   "cell_type": "code",
   "execution_count": null,
   "outputs": [],
   "source": [
    "data.dtypes"
   ],
   "metadata": {
    "collapsed": false,
    "pycharm": {
     "name": "#%%\n"
    }
   }
  },
  {
   "cell_type": "code",
   "execution_count": null,
   "outputs": [],
   "source": [
    "class DataAnalysis:\n",
    "    def __init__(self, dataset, user_id):\n",
    "        self.dataset = dataset\n",
    "        self.user_id = user_id\n",
    "    \n",
    "    @property\n",
    "    def user_id(self):\n",
    "        return self.__user_id\n",
    "\n",
    "    @user_id.setter\n",
    "    def user_id(self, user_id):\n",
    "        self.__user_id = user_id\n",
    "        self.subdata = self.dataset[self.dataset[\"user_id\"] == user_id]\n",
    "\n",
    "    # 绘制企业整体用电情况图\n",
    "    def plot_consumption(self):\n",
    "        # figsize: 调整图片的宽高\n",
    "        # dpi: 调整图片的清晰度\n",
    "        fig, ax = plt.subplots(figsize=(16, 4), dpi=100)\n",
    "        \n",
    "        # color: 调整线条的颜色\n",
    "        sns.lineplot(data=self.subdata, x=\"record_date\", y=\"power_consumption\", ax=ax, color=\"lightgreen\")\n",
    "        ax.set_title(\"user_id == %s\" % self.user_id)\n",
    "        plt.plot()\n",
    "        \n",
    "    # 限定范围日期 绘制企业用电情况\n",
    "    def plot_consumption_by_date_range(self, date_min=\"2018-01-01\", date_max=\"2020-01-01\"):\n",
    "        data = self.subdata\n",
    "        data = data[(data[\"record_date\"] >= date_min) & (data[\"record_date\"] <= date_max)]\n",
    "    \n",
    "        fig, ax = plt.subplots(figsize=(8, 4), dpi=100)\n",
    "        sns.lineplot(data=data, x=\"record_date\", y=\"power_consumption\", ax=ax, color=\"red\", marker='o')  # tianchi\n",
    "        # sns.lineplot(data=data, x=\"record_date\", y=\"payment_amount\", ax=ax, color=\"blue\", marker='o')  # cph\n",
    "        ax.set_title(\"user_id == %s\" % self.user_id)\n",
    "\n",
    "        \n",
    "        labels = ax.get_xticklabels()\n",
    "        # rotation 调整x轴标签旋转角度\n",
    "        plt.setp(labels, rotation=45, horizontalalignment='center')\n",
    "        plt.plot()\n",
    "\n",
    "    # 企业总用电量分析\n",
    "    def plot_consumption_analysis(self):\n",
    "        fig = plt.figure(figsize=(10, 4), dpi=100,constrained_layout=True)\n",
    "        gs = GridSpec(1, 5, figure=fig)\n",
    "        \n",
    "        ax = fig.add_subplot(gs[0, :3])\n",
    "        subdata = data.groupby([\"user_id\"]).sum().sort_values(by=\"power_consumption\", ascending=False)[:5]\n",
    "        sns.barplot(ax=ax, x=np.arange(5), y=subdata[\"power_consumption\"], palette=\"Greens_r\")\n",
    "        ax.set_ylabel(\"(GkWh)\")\n",
    "        ax.set_xticklabels(subdata.index)\n",
    "        ax.set_yticks(np.arange(0, 600000001, 100000000))\n",
    "        ax.set_yticklabels(np.arange(0, 601, 100))\n",
    "        # ax.set_yticks(np.arange(0, 2000, 100))\n",
    "        # ax.set_yticklabels(np.arange(0, 3000, 100))\n",
    "        ax.set_xlabel(\"user_id\")\n",
    "        ax.set_title(\"power_consumption top 5\")\n",
    "\n",
    "        ax = fig.add_subplot(gs[0, 3:])\n",
    "        subdata = data.groupby([\"user_id\"]).sum().sort_values(by=\"power_consumption\", ascending=False)[20:]\n",
    "        sns.boxenplot(subdata, orient=\"v\", ax=ax, palette=\"summer\")\n",
    "        ax.set_ylabel(\"(GkWh)\")\n",
    "        # ax.set_yticks(np.arange(0, 2000, 500))\n",
    "        # ax.set_yticklabels(np.arange(0, 11, 2))\n",
    "        ## ax.set_xlabel(\"user_id\")\n",
    "        ax.set_title(\"consumption distribution\")\n",
    "        plt.show()\n",
    "\n",
    "    # 所有企业的每日用电量\n",
    "    def plot_total_consumption_everyday(self):\n",
    "        fig, ax = plt.subplots(figsize=(16, 4), dpi=100)\n",
    "\n",
    "        # 所有企业的日用电量之和\n",
    "        data = self.dataset.groupby([\"record_date\"])[\"power_consumption\"].sum()\n",
    "        sns.lineplot(data=data, ax=ax, color=\"lightgreen\")\n",
    "        ax.set_title(\"Total daily consumption\")\n",
    "        plt.plot()"
   ],
   "metadata": {
    "collapsed": false,
    "pycharm": {
     "name": "#%%\n"
    }
   }
  },
  {
   "cell_type": "code",
   "execution_count": null,
   "outputs": [],
   "source": [
    "# user_id 要分析哪家企业的用电情况\n",
    "ana = DataAnalysis(data, user_id = 4)"
   ],
   "metadata": {
    "collapsed": false,
    "pycharm": {
     "name": "#%%\n"
    }
   }
  },
  {
   "cell_type": "code",
   "execution_count": null,
   "outputs": [],
   "source": [
    "ana.plot_total_consumption_everyday()"
   ],
   "metadata": {
    "collapsed": false,
    "pycharm": {
     "name": "#%%\n"
    }
   }
  },
  {
   "cell_type": "code",
   "execution_count": null,
   "outputs": [],
   "source": [
    "ana.plot_consumption()"
   ],
   "metadata": {
    "collapsed": false,
    "pycharm": {
     "name": "#%%\n"
    }
   }
  },
  {
   "cell_type": "code",
   "execution_count": null,
   "outputs": [],
   "source": [
    "# ana.plot_consumption_by_date_range(date_min=\"20180101\",date_max=\"20181201\")  # cph\n",
    "ana.plot_consumption_by_date_range(date_min=\"20150101\",date_max=\"20150201\")  # tianchi"
   ],
   "metadata": {
    "collapsed": false,
    "pycharm": {
     "name": "#%%\n"
    }
   }
  },
  {
   "cell_type": "code",
   "execution_count": null,
   "outputs": [],
   "source": [
    "ana.plot_consumption_analysis()"
   ],
   "metadata": {
    "collapsed": false,
    "pycharm": {
     "name": "#%%\n"
    }
   }
  },
  {
   "cell_type": "markdown",
   "source": [
    "# LSTM\n",
    "http://colah.github.io/posts/2015-08-Understanding-LSTMs/\n",
    "\n",
    "![](img/LSTM3-chain.png)"
   ],
   "metadata": {
    "collapsed": false,
    "pycharm": {
     "name": "#%% md\n"
    }
   }
  },
  {
   "cell_type": "code",
   "execution_count": null,
   "outputs": [],
   "source": [
    "import paddle\n",
    "import pandas as pd\n",
    "import numpy as np\n",
    "import matplotlib.pyplot as plt\n",
    "paddle.__version__\n",
    "\n",
    "# 定义LSTM模型\n",
    "class LSTM(paddle.nn.Layer):\n",
    "    def __init__(self, input_size=1, hidden_size=16):\n",
    "        super().__init__()\n",
    "        self.rnn = paddle.nn.LSTM(input_size=input_size, hidden_size=hidden_size,  num_layers=1)\n",
    "        self.linear = paddle.nn.Linear(hidden_size, 1)\n",
    "\n",
    "    def forward(self, inputs):\n",
    "        y, (hidden, cell) = self.rnn(inputs)\n",
    "        # hidden = paddle.mean(y, axis=1)\n",
    "        output = self.linear(hidden)\n",
    "        output = paddle.squeeze(output)\n",
    "        return output"
   ],
   "metadata": {
    "collapsed": false,
    "pycharm": {
     "name": "#%%\n"
    }
   }
  },
  {
   "cell_type": "code",
   "execution_count": null,
   "outputs": [],
   "source": [
    "# 测试LSTM模型\n",
    "# input_size = 6  # 输入维度 单变量预测的话这个就是1 \n",
    "# seq_len = 10  # 用多少个数据预测后一个数据\n",
    "# batch_size = 4  # 一批4个样本长度为10\n",
    "input_size = 6  # 输入维度 单变量预测的话这个就是1 \n",
    "seq_len = 4  # 用多少个数据预测后一个数据\n",
    "batch_size = 4  # 一批4个样本长度为10\n",
    "\n",
    "x = paddle.randn((batch_size, seq_len, input_size))\n",
    "model = LSTM(input_size)\n",
    "\n",
    "# x shape (batch_size, seq_len, input_size)\n",
    "model.forward(x)"
   ],
   "metadata": {
    "collapsed": false,
    "pycharm": {
     "name": "#%%\n"
    }
   }
  },
  {
   "cell_type": "code",
   "execution_count": null,
   "outputs": [],
   "source": [
    "# 数据集类\n",
    "class MyDataset(paddle.io.Dataset):\n",
    "    \"\"\"\n",
    "    步骤一：继承paddle.io.Dataset类\n",
    "    \"\"\"\n",
    "    def __init__(self, data, num_features=1, num_labels=1):\n",
    "        \"\"\"\n",
    "        步骤二：实现构造函数，定义数据集大小\n",
    "\n",
    "        data: numpy.Array 1维数组\n",
    "        \"\"\"\n",
    "        super(MyDataset, self).__init__()\n",
    "        self.data = data\n",
    "        self.num_features = num_features\n",
    "        self.num_labels = num_labels\n",
    "\n",
    "        x = []\n",
    "        y = []\n",
    "        for i in range(0, len(data) - num_features - num_labels + 1):\n",
    "            x.append(data[i:i+num_features])\n",
    "            y.append(data[i+num_features:i+num_features+num_labels])\n",
    "        self.x = np.vstack(x).reshape(-1, self.num_features, 1)\n",
    "        # self.y = np.vstack(y).reshape(-1, self.num_labels, 1)\n",
    "        self.y = np.vstack(y)\n",
    "        self.x = np.array(self.x, dtype=\"float32\")\n",
    "        self.y = np.array(self.y, dtype=\"float32\")\n",
    "\n",
    "        self.num_samples = len(x)\n",
    "\n",
    "    def __getitem__(self, index):\n",
    "        \"\"\"\n",
    "        步骤三：实现__getitem__方法，定义指定index时如何获取数据，并返回单条数据（训练数据，对应的标签）\n",
    "        \"\"\"\n",
    "        data = self.x[index]\n",
    "        label = self.y[index]\n",
    "\n",
    "        return data, label\n",
    "\n",
    "    def __len__(self):\n",
    "        \"\"\"\n",
    "        步骤四：实现__len__方法，返回数据集总数目\n",
    "        \"\"\"\n",
    "        return self.num_samples"
   ],
   "metadata": {
    "collapsed": false,
    "pycharm": {
     "name": "#%%\n"
    }
   }
  },
  {
   "cell_type": "code",
   "execution_count": null,
   "outputs": [],
   "source": [
    "# 从文件读取数据集\n",
    "# data = pd.read_csv(\"../dataset/RjbPowerRecord.csv\")\n",
    "data = pd.read_csv(\"../dataset/Tianchi_power.csv\")\n",
    "data.head()"
   ],
   "metadata": {
    "collapsed": false,
    "pycharm": {
     "name": "#%%\n"
    }
   }
  },
  {
   "cell_type": "code",
   "execution_count": null,
   "outputs": [],
   "source": [
    "data = data[data[\"user_id\"] == 2]['power_consumption'].to_numpy()\n",
    "# print(data)"
   ],
   "metadata": {
    "collapsed": false,
    "pycharm": {
     "name": "#%%\n"
    }
   }
  },
  {
   "cell_type": "code",
   "execution_count": null,
   "outputs": [],
   "source": [
    "data_min = data.min()\n",
    "data_max = data.max()\n",
    "data = (data - data_min) / (data_max - data_min)\n",
    "\n",
    "n_train_samples = int(len(data) * 0.5)\n",
    "print(\"采样长度\",n_train_samples)\n",
    "\n",
    "train_data = data[:n_train_samples]\n",
    "# print(train_data)"
   ],
   "metadata": {
    "collapsed": false,
    "pycharm": {
     "name": "#%%\n"
    }
   }
  },
  {
   "cell_type": "code",
   "execution_count": 16,
   "outputs": [],
   "source": [
    "import paddle\n",
    "import pandas as pd\n",
    "import numpy as np\n",
    "import matplotlib.pyplot as plt\n",
    "paddle.__version__\n",
    "\n",
    "# 定义LSTM模型\n",
    "class LSTM(paddle.nn.Layer):\n",
    "    def __init__(self, input_size=1, hidden_size=16):\n",
    "        super().__init__()\n",
    "        self.rnn = paddle.nn.LSTM(input_size=input_size, hidden_size=hidden_size,  num_layers=1)\n",
    "        self.linear = paddle.nn.Linear(hidden_size, 1)\n",
    "\n",
    "    def forward(self, inputs):\n",
    "        y, (hidden, cell) = self.rnn(inputs)\n",
    "        # hidden = paddle.mean(y, axis=1)\n",
    "        output = self.linear(hidden)\n",
    "        output = paddle.squeeze(output)\n",
    "        return output"
   ],
   "metadata": {
    "pycharm": {
     "name": "#%%\n"
    },
    "id": "QHi8LuJHVaHU",
    "executionInfo": {
     "status": "ok",
     "timestamp": 1657194143094,
     "user_tz": -480,
     "elapsed": 8,
     "user": {
      "displayName": "陈成",
      "userId": "07346209167866063288"
     }
    }
   }
  },
  {
   "cell_type": "code",
   "execution_count": 17,
   "outputs": [
    {
     "output_type": "execute_result",
     "data": {
      "text/plain": [
       "Tensor(shape=[4], dtype=float32, place=CUDAPlace(0), stop_gradient=False,\n",
       "       [0.20946176, 0.28968862, 0.17450669, 0.22290361])"
      ]
     },
     "metadata": {},
     "execution_count": 17
    }
   ],
   "source": [
    "# 测试LSTM模型\n",
    "# input_size = 6  # 输入维度 单变量预测的话这个就是1 \n",
    "# seq_len = 10  # 用多少个数据预测后一个数据\n",
    "# batch_size = 4  # 一批4个样本长度为10\n",
    "input_size = 6  # 输入维度 单变量预测的话这个就是1 \n",
    "seq_len = 4  # 用多少个数据预测后一个数据\n",
    "batch_size = 4  # 一批4个样本长度为10\n",
    "\n",
    "x = paddle.randn((batch_size, seq_len, input_size))\n",
    "model = LSTM(input_size)\n",
    "\n",
    "# x shape (batch_size, seq_len, input_size)\n",
    "model.forward(x)"
   ],
   "metadata": {
    "pycharm": {
     "name": "#%%\n"
    },
    "colab": {
     "base_uri": "https://localhost:8080/"
    },
    "id": "fB4AWY7HVaHV",
    "executionInfo": {
     "status": "ok",
     "timestamp": 1657194151666,
     "user_tz": -480,
     "elapsed": 8580,
     "user": {
      "displayName": "陈成",
      "userId": "07346209167866063288"
     }
    },
    "outputId": "4dcc294d-b240-41c8-a2dc-4745c8dd8494"
   }
  },
  {
   "cell_type": "code",
   "execution_count": 18,
   "outputs": [],
   "source": [
    "# 数据集类\n",
    "class MyDataset(paddle.io.Dataset):\n",
    "    \"\"\"\n",
    "    步骤一：继承paddle.io.Dataset类\n",
    "    \"\"\"\n",
    "    def __init__(self, data, num_features=1, num_labels=1):\n",
    "        \"\"\"\n",
    "        步骤二：实现构造函数，定义数据集大小\n",
    "\n",
    "        data: numpy.Array 1维数组\n",
    "        \"\"\"\n",
    "        super(MyDataset, self).__init__()\n",
    "        self.data = data\n",
    "        self.num_features = num_features\n",
    "        self.num_labels = num_labels\n",
    "\n",
    "        x = []\n",
    "        y = []\n",
    "        for i in range(0, len(data) - num_features - num_labels + 1):\n",
    "            x.append(data[i:i+num_features])\n",
    "            y.append(data[i+num_features:i+num_features+num_labels])\n",
    "        self.x = np.vstack(x).reshape(-1, self.num_features, 1)\n",
    "        # self.y = np.vstack(y).reshape(-1, self.num_labels, 1)\n",
    "        self.y = np.vstack(y)\n",
    "        self.x = np.array(self.x, dtype=\"float32\")\n",
    "        self.y = np.array(self.y, dtype=\"float32\")\n",
    "\n",
    "        self.num_samples = len(x)\n",
    "\n",
    "    def __getitem__(self, index):\n",
    "        \"\"\"\n",
    "        步骤三：实现__getitem__方法，定义指定index时如何获取数据，并返回单条数据（训练数据，对应的标签）\n",
    "        \"\"\"\n",
    "        data = self.x[index]\n",
    "        label = self.y[index]\n",
    "\n",
    "        return data, label\n",
    "\n",
    "    def __len__(self):\n",
    "        \"\"\"\n",
    "        步骤四：实现__len__方法，返回数据集总数目\n",
    "        \"\"\"\n",
    "        return self.num_samples"
   ],
   "metadata": {
    "pycharm": {
     "name": "#%%\n"
    },
    "id": "AJf1E2hKVaHV",
    "executionInfo": {
     "status": "ok",
     "timestamp": 1657194151667,
     "user_tz": -480,
     "elapsed": 11,
     "user": {
      "displayName": "陈成",
      "userId": "07346209167866063288"
     }
    }
   }
  },
  {
   "cell_type": "code",
   "execution_count": 19,
   "outputs": [
    {
     "output_type": "execute_result",
     "data": {
      "text/plain": [
       "   user_id record_date  power_consumption\n",
       "0        1  2015-01-01             1135.0\n",
       "1        1  2015-01-02              570.0\n",
       "2        1  2015-01-03             3418.0\n",
       "3        1  2015-01-04             3968.0\n",
       "4        1  2015-01-05             3986.0"
      ],
      "text/html": [
       "\n",
       "  <div id=\"df-8ccbf0da-bc6b-4189-8a51-ccb759b7beca\">\n",
       "    <div class=\"colab-df-container\">\n",
       "      <div>\n",
       "<style scoped>\n",
       "    .dataframe tbody tr th:only-of-type {\n",
       "        vertical-align: middle;\n",
       "    }\n",
       "\n",
       "    .dataframe tbody tr th {\n",
       "        vertical-align: top;\n",
       "    }\n",
       "\n",
       "    .dataframe thead th {\n",
       "        text-align: right;\n",
       "    }\n",
       "</style>\n",
       "<table border=\"1\" class=\"dataframe\">\n",
       "  <thead>\n",
       "    <tr style=\"text-align: right;\">\n",
       "      <th></th>\n",
       "      <th>user_id</th>\n",
       "      <th>record_date</th>\n",
       "      <th>power_consumption</th>\n",
       "    </tr>\n",
       "  </thead>\n",
       "  <tbody>\n",
       "    <tr>\n",
       "      <th>0</th>\n",
       "      <td>1</td>\n",
       "      <td>2015-01-01</td>\n",
       "      <td>1135.0</td>\n",
       "    </tr>\n",
       "    <tr>\n",
       "      <th>1</th>\n",
       "      <td>1</td>\n",
       "      <td>2015-01-02</td>\n",
       "      <td>570.0</td>\n",
       "    </tr>\n",
       "    <tr>\n",
       "      <th>2</th>\n",
       "      <td>1</td>\n",
       "      <td>2015-01-03</td>\n",
       "      <td>3418.0</td>\n",
       "    </tr>\n",
       "    <tr>\n",
       "      <th>3</th>\n",
       "      <td>1</td>\n",
       "      <td>2015-01-04</td>\n",
       "      <td>3968.0</td>\n",
       "    </tr>\n",
       "    <tr>\n",
       "      <th>4</th>\n",
       "      <td>1</td>\n",
       "      <td>2015-01-05</td>\n",
       "      <td>3986.0</td>\n",
       "    </tr>\n",
       "  </tbody>\n",
       "</table>\n",
       "</div>\n",
       "      <button class=\"colab-df-convert\" onclick=\"convertToInteractive('df-8ccbf0da-bc6b-4189-8a51-ccb759b7beca')\"\n",
       "              title=\"Convert this dataframe to an interactive table.\"\n",
       "              style=\"display:none;\">\n",
       "        \n",
       "  <svg xmlns=\"http://www.w3.org/2000/svg\" height=\"24px\"viewBox=\"0 0 24 24\"\n",
       "       width=\"24px\">\n",
       "    <path d=\"M0 0h24v24H0V0z\" fill=\"none\"/>\n",
       "    <path d=\"M18.56 5.44l.94 2.06.94-2.06 2.06-.94-2.06-.94-.94-2.06-.94 2.06-2.06.94zm-11 1L8.5 8.5l.94-2.06 2.06-.94-2.06-.94L8.5 2.5l-.94 2.06-2.06.94zm10 10l.94 2.06.94-2.06 2.06-.94-2.06-.94-.94-2.06-.94 2.06-2.06.94z\"/><path d=\"M17.41 7.96l-1.37-1.37c-.4-.4-.92-.59-1.43-.59-.52 0-1.04.2-1.43.59L10.3 9.45l-7.72 7.72c-.78.78-.78 2.05 0 2.83L4 21.41c.39.39.9.59 1.41.59.51 0 1.02-.2 1.41-.59l7.78-7.78 2.81-2.81c.8-.78.8-2.07 0-2.86zM5.41 20L4 18.59l7.72-7.72 1.47 1.35L5.41 20z\"/>\n",
       "  </svg>\n",
       "      </button>\n",
       "      \n",
       "  <style>\n",
       "    .colab-df-container {\n",
       "      display:flex;\n",
       "      flex-wrap:wrap;\n",
       "      gap: 12px;\n",
       "    }\n",
       "\n",
       "    .colab-df-convert {\n",
       "      background-color: #E8F0FE;\n",
       "      border: none;\n",
       "      border-radius: 50%;\n",
       "      cursor: pointer;\n",
       "      display: none;\n",
       "      fill: #1967D2;\n",
       "      height: 32px;\n",
       "      padding: 0 0 0 0;\n",
       "      width: 32px;\n",
       "    }\n",
       "\n",
       "    .colab-df-convert:hover {\n",
       "      background-color: #E2EBFA;\n",
       "      box-shadow: 0px 1px 2px rgba(60, 64, 67, 0.3), 0px 1px 3px 1px rgba(60, 64, 67, 0.15);\n",
       "      fill: #174EA6;\n",
       "    }\n",
       "\n",
       "    [theme=dark] .colab-df-convert {\n",
       "      background-color: #3B4455;\n",
       "      fill: #D2E3FC;\n",
       "    }\n",
       "\n",
       "    [theme=dark] .colab-df-convert:hover {\n",
       "      background-color: #434B5C;\n",
       "      box-shadow: 0px 1px 3px 1px rgba(0, 0, 0, 0.15);\n",
       "      filter: drop-shadow(0px 1px 2px rgba(0, 0, 0, 0.3));\n",
       "      fill: #FFFFFF;\n",
       "    }\n",
       "  </style>\n",
       "\n",
       "      <script>\n",
       "        const buttonEl =\n",
       "          document.querySelector('#df-8ccbf0da-bc6b-4189-8a51-ccb759b7beca button.colab-df-convert');\n",
       "        buttonEl.style.display =\n",
       "          google.colab.kernel.accessAllowed ? 'block' : 'none';\n",
       "\n",
       "        async function convertToInteractive(key) {\n",
       "          const element = document.querySelector('#df-8ccbf0da-bc6b-4189-8a51-ccb759b7beca');\n",
       "          const dataTable =\n",
       "            await google.colab.kernel.invokeFunction('convertToInteractive',\n",
       "                                                     [key], {});\n",
       "          if (!dataTable) return;\n",
       "\n",
       "          const docLinkHtml = 'Like what you see? Visit the ' +\n",
       "            '<a target=\"_blank\" href=https://colab.research.google.com/notebooks/data_table.ipynb>data table notebook</a>'\n",
       "            + ' to learn more about interactive tables.';\n",
       "          element.innerHTML = '';\n",
       "          dataTable['output_type'] = 'display_data';\n",
       "          await google.colab.output.renderOutput(dataTable, element);\n",
       "          const docLink = document.createElement('div');\n",
       "          docLink.innerHTML = docLinkHtml;\n",
       "          element.appendChild(docLink);\n",
       "        }\n",
       "      </script>\n",
       "    </div>\n",
       "  </div>\n",
       "  "
      ]
     },
     "metadata": {},
     "execution_count": 19
    }
   ],
   "source": [
    "# 从文件读取数据集\n",
    "# data = pd.read_csv(\"../dataset/RjbPowerRecord.csv\")\n",
    "data = pd.read_csv(\"../dataset/Tianchi_power.csv\")\n",
    "data.head()"
   ],
   "metadata": {
    "pycharm": {
     "name": "#%%\n"
    },
    "colab": {
     "base_uri": "https://localhost:8080/",
     "height": 206
    },
    "id": "VJ2B5r5FVaHV",
    "executionInfo": {
     "status": "ok",
     "timestamp": 1657194152625,
     "user_tz": -480,
     "elapsed": 968,
     "user": {
      "displayName": "陈成",
      "userId": "07346209167866063288"
     }
    },
    "outputId": "cf5acac3-2128-46da-d5c5-aaf320fbc53c"
   }
  },
  {
   "cell_type": "code",
   "source": [
    "data = data[data[\"user_id\"] == 2]['power_consumption'].to_numpy()\n",
    "# print(data)"
   ],
   "metadata": {
    "id": "9gPQ7as7XwHO",
    "executionInfo": {
     "status": "ok",
     "timestamp": 1657194152625,
     "user_tz": -480,
     "elapsed": 16,
     "user": {
      "displayName": "陈成",
      "userId": "07346209167866063288"
     }
    }
   },
   "execution_count": 20,
   "outputs": []
  },
  {
   "cell_type": "code",
   "source": [
    "data_min = data.min()\n",
    "data_max = data.max()\n",
    "data = (data - data_min) / (data_max - data_min)\n",
    "\n",
    "n_train_samples = int(len(data) * 0.5)\n",
    "print(\"采样长度\",n_train_samples)\n",
    "\n",
    "train_data = data[:n_train_samples]\n",
    "# print(train_data)"
   ],
   "metadata": {
    "colab": {
     "base_uri": "https://localhost:8080/"
    },
    "id": "RVRSCwysXwgO",
    "executionInfo": {
     "status": "ok",
     "timestamp": 1657194152626,
     "user_tz": -480,
     "elapsed": 16,
     "user": {
      "displayName": "陈成",
      "userId": "07346209167866063288"
     }
    },
    "outputId": "5b919b77-6a35-42dd-9eeb-d879f136941a"
   },
   "execution_count": 21,
   "outputs": [
    {
     "output_type": "stream",
     "name": "stdout",
     "text": [
      "采样长度 304\n"
     ]
    }
   ]
  },
  {
   "cell_type": "code",
   "execution_count": 22,
   "metadata": {
    "pycharm": {
     "name": "#%%\n"
    },
    "colab": {
     "base_uri": "https://localhost:8080/"
    },
    "id": "wxfpNimGMyl_",
    "executionInfo": {
     "status": "ok",
     "timestamp": 1657194152626,
     "user_tz": -480,
     "elapsed": 14,
     "user": {
      "displayName": "陈成",
      "userId": "07346209167866063288"
     }
    },
    "outputId": "6f52d3b0-9e4b-4b74-f524-2d1daa6dd140"
   },
   "outputs": [
    {
     "output_type": "stream",
     "name": "stdout",
     "text": [
      "[0.37190083 0.56198347 0.47933884 0.54338843 0.28719008 0.42975207\n",
      " 0.58264463 0.36983471 0.38429752 0.40082645 0.54958678 0.66735537\n",
      " 0.34504132 0.33884298 0.13636364 0.22933884 0.30165289 0.11570248\n",
      " 0.2107438  0.26652893 0.32438017 0.3161157  0.3553719  0.32644628\n",
      " 0.47933884 0.35950413 0.37190083 0.38636364 0.49380165 0.3946281\n",
      " 0.18595041 0.20867769 0.86570248 0.93181818 0.66115702 0.51446281\n",
      " 0.55991736 0.53099174 0.35743802 0.29132231 0.40702479 0.39256198\n",
      " 0.4731405  0.53099174 0.49173554 0.44008264 0.43181818 0.38842975\n",
      " 0.25       0.09297521 0.18801653 0.15495868 0.18801653 0.51652893\n",
      " 0.34297521 0.51239669 0.09297521 0.24793388 0.43595041 0.24173554\n",
      " 0.35743802 0.06818182 0.09504132 0.30371901 0.40289256 0.6053719\n",
      " 0.59710744 0.72520661 0.7892562  0.62809917 0.5392562  0.54545455\n",
      " 0.76859504 0.58677686 0.60743802 0.75206612 0.7231405  0.65909091\n",
      " 0.62809917 0.55785124 0.6446281  0.71694215 0.67355372 0.5\n",
      " 0.19628099 0.68801653 0.73553719 0.58264463 0.4731405  0.61157025\n",
      " 0.6053719  0.43801653 0.22520661 0.34710744 0.10950413 0.18181818\n",
      " 0.11157025 0.12603306 0.05991736 0.05165289 0.02272727 0.02272727\n",
      " 0.02272727 0.02272727 0.02066116 0.02892562 0.13016529 0.36363636\n",
      " 0.3677686  0.44628099 0.52892562 0.72933884 0.72727273 0.8553719\n",
      " 0.95661157 0.78512397 0.8822314  0.93801653 0.76652893 0.74586777\n",
      " 0.79338843 0.7892562  0.85950413 0.58677686 0.6838843  0.69834711\n",
      " 0.44628099 0.52272727 0.58264463 0.6322314  0.82231405 0.65909091\n",
      " 0.43595041 0.33677686 0.35743802 0.6446281  0.6053719  0.58471074\n",
      " 0.66115702 0.50826446 0.35743802 0.59090909 0.71280992 0.7768595\n",
      " 0.67561983 0.68181818 0.67355372 0.56818182 0.53719008 0.55165289\n",
      " 0.59710744 0.5268595  0.56198347 0.60330579 0.45247934 0.3946281\n",
      " 0.09297521 0.61983471 0.66735537 0.59297521 0.54338843 0.38016529\n",
      " 0.54752066 0.57231405 0.6322314  0.57231405 0.53099174 0.6446281\n",
      " 0.50413223 0.70454545 0.55165289 0.67768595 0.66528926 0.50826446\n",
      " 0.50619835 0.43181818 0.57231405 0.52272727 0.62603306 0.08057851\n",
      " 0.50413223 0.50619835 0.08057851 0.57024793 0.80165289 0.48347107\n",
      " 0.62190083 0.6446281  0.60743802 0.30371901 0.47727273 0.50206612\n",
      " 0.47107438 0.55165289 0.51446281 0.43595041 0.43595041 0.60950413\n",
      " 0.57231405 0.44008264 0.49586777 0.59297521 0.73347107 0.70454545\n",
      " 0.76652893 0.69421488 0.72933884 0.65289256 0.60330579 0.67355372\n",
      " 0.35330579 0.31818182 0.62190083 0.20661157 0.62190083 0.61363636\n",
      " 0.69421488 0.47520661 0.58057851 0.67975207 0.62190083 0.69834711\n",
      " 0.50619835 0.69834711 0.56198347 0.55785124 0.74173554 0.66115702\n",
      " 0.74793388 0.7231405  0.74586777 0.64256198 0.65702479 0.6322314\n",
      " 0.64876033 0.67561983 0.57024793 0.41115702 0.17561983 0.47933884\n",
      " 0.49586777 0.52066116 0.6053719  0.58677686 0.61157025 0.3553719\n",
      " 0.39256198 0.66735537 0.42975207 0.3946281  0.73553719 0.68181818\n",
      " 0.61570248 0.76859504 0.83057851 0.70867769 0.66322314 0.69628099\n",
      " 0.73347107 0.42768595 0.65702479 0.71280992 0.66322314 0.76239669\n",
      " 0.83057851 0.73966942 0.62603306 0.57024793 0.52892562 0.54132231\n",
      " 0.58471074 0.5661157  0.67768595 0.51239669 0.63842975 0.58677686\n",
      " 0.7768595  0.8161157  0.68181818 0.74380165 0.70041322 0.77272727\n",
      " 0.72727273 0.70041322 0.61363636 0.67561983 0.60950413 0.66735537\n",
      " 0.82024793 0.82438017 0.75413223 1.         0.69628099 0.61157025\n",
      " 0.56818182 0.79338843 0.76859504 0.63636364 0.68595041 0.53719008\n",
      " 0.71694215 0.6053719  0.66735537 0.70661157 0.72727273]\n"
     ]
    }
   ],
   "source": [
    "test_data = data[n_train_samples:]\n",
    "print(test_data)"
   ]
  },
  {
   "cell_type": "code",
   "execution_count": 23,
   "metadata": {
    "pycharm": {
     "name": "#%%\n"
    },
    "colab": {
     "base_uri": "https://localhost:8080/",
     "height": 282
    },
    "id": "09TdhJa6MymA",
    "executionInfo": {
     "status": "ok",
     "timestamp": 1657194152626,
     "user_tz": -480,
     "elapsed": 12,
     "user": {
      "displayName": "陈成",
      "userId": "07346209167866063288"
     }
    },
    "outputId": "ab7822f4-7680-4a1f-b1bd-b60e01fc1233"
   },
   "outputs": [
    {
     "output_type": "execute_result",
     "data": {
      "text/plain": [
       "[<matplotlib.lines.Line2D at 0x7fa68aa48790>]"
      ]
     },
     "metadata": {},
     "execution_count": 23
    },
    {
     "output_type": "display_data",
     "data": {
      "text/plain": [
       "<Figure size 432x288 with 1 Axes>"
      ],
      "image/png": "[encoded data removed]"
     },
     "metadata": {
      "needs_background": "light"
     }
    }
   ],
   "source": [
    "plt.plot(range(n_train_samples), train_data)"
   ]
  },
  {
   "cell_type": "code",
   "execution_count": 24,
   "metadata": {
    "pycharm": {
     "name": "#%%\n"
    },
    "colab": {
     "base_uri": "https://localhost:8080/",
     "height": 282
    },
    "id": "bjIqv04bMymA",
    "executionInfo": {
     "status": "ok",
     "timestamp": 1657194152627,
     "user_tz": -480,
     "elapsed": 11,
     "user": {
      "displayName": "陈成",
      "userId": "07346209167866063288"
     }
    },
    "outputId": "d1bf57a1-3f5a-48a0-feb4-7a4a9955efe6"
   },
   "outputs": [
    {
     "output_type": "execute_result",
     "data": {
      "text/plain": [
       "[<matplotlib.lines.Line2D at 0x7fa5f588bf50>]"
      ]
     },
     "metadata": {},
     "execution_count": 24
    },
    {
     "output_type": "display_data",
     "data": {
      "text/plain": [
       "<Figure size 432x288 with 1 Axes>"
      ],
      "image/png": "[encoded data removed]"
     },
     "metadata": {
      "needs_background": "light"
     }
    }
   ],
   "source": [
    "plt.plot(range(n_train_samples, len(data)), test_data)"
   ]
  },
  {
   "cell_type": "code",
   "execution_count": 25,
   "metadata": {
    "pycharm": {
     "name": "#%%\n"
    },
    "id": "jUOb9Dw6MymA",
    "executionInfo": {
     "status": "ok",
     "timestamp": 1657194152627,
     "user_tz": -480,
     "elapsed": 9,
     "user": {
      "displayName": "陈成",
      "userId": "07346209167866063288"
     }
    }
   },
   "outputs": [],
   "source": [
    "# num_features = 12 batch_size = 8 时效果较好\n",
    "train_dataset = MyDataset(train_data, num_features=12)\n",
    "test_dataset = MyDataset(test_data, num_features=12)\n",
    "train_loader = paddle.io.DataLoader(train_dataset, batch_size=8, shuffle=False, drop_last=False)\n",
    "# train_dataset = MyDataset(train_data, num_features=1)\n",
    "# test_dataset = MyDataset(test_data, num_features=1)\n",
    "# train_loader = paddle.io.DataLoader(train_dataset, batch_size=8, shuffle=False, drop_last=False)"
   ]
  },
  {
   "cell_type": "code",
   "execution_count": 26,
   "metadata": {
    "pycharm": {
     "name": "#%%\n"
    },
    "colab": {
     "base_uri": "https://localhost:8080/"
    },
    "id": "-Qvly1bpMymA",
    "executionInfo": {
     "status": "ok",
     "timestamp": 1657194155081,
     "user_tz": -480,
     "elapsed": 2462,
     "user": {
      "displayName": "陈成",
      "userId": "07346209167866063288"
     }
    },
    "outputId": "0a62d37e-bc61-45dd-8a2f-e007470459fc"
   },
   "outputs": [
    {
     "output_type": "stream",
     "name": "stderr",
     "text": [
      "/usr/local/lib/python3.7/dist-packages/paddle/fluid/dataloader/dataloader_iter.py:89: DeprecationWarning: `np.bool` is a deprecated alias for the builtin `bool`. To silence this warning, use `bool` by itself. Doing this will not modify any behavior and is safe. If you specifically wanted the numpy scalar type, use `np.bool_` here.\n",
      "Deprecated in NumPy 1.20; for more details and guidance: https://numpy.org/devdocs/release/1.20.0-notes.html#deprecations\n",
      "  if isinstance(slot[0], (np.ndarray, np.bool, numbers.Number)):\n"
     ]
    },
    {
     "output_type": "stream",
     "name": "stdout",
     "text": [
      "epoch 0 loss 0.0763\n",
      "epoch 1 loss 0.0517\n",
      "epoch 2 loss 0.0194\n",
      "epoch 3 loss 0.0077\n",
      "epoch 4 loss 0.0040\n",
      "epoch 5 loss 0.0027\n",
      "epoch 6 loss 0.0026\n",
      "epoch 7 loss 0.0027\n",
      "epoch 8 loss 0.0027\n",
      "epoch 9 loss 0.0027\n",
      "epoch 10 loss 0.0028\n",
      "epoch 11 loss 0.0030\n",
      "epoch 12 loss 0.0032\n",
      "epoch 13 loss 0.0034\n",
      "epoch 14 loss 0.0036\n",
      "epoch 15 loss 0.0038\n",
      "epoch 16 loss 0.0040\n",
      "epoch 17 loss 0.0042\n",
      "epoch 18 loss 0.0044\n",
      "epoch 19 loss 0.0045\n",
      "epoch 20 loss 0.0047\n",
      "epoch 21 loss 0.0049\n",
      "epoch 22 loss 0.0051\n",
      "epoch 23 loss 0.0053\n",
      "epoch 24 loss 0.0055\n",
      "epoch 25 loss 0.0057\n",
      "epoch 26 loss 0.0058\n",
      "epoch 27 loss 0.0060\n",
      "epoch 28 loss 0.0061\n",
      "epoch 29 loss 0.0063\n"
     ]
    }
   ],
   "source": [
    "# 训练代码\n",
    "model = LSTM()\n",
    "loss_fn = paddle.nn.MSELoss(reduction='mean')\n",
    "optimizer = paddle.optimizer.Adam(learning_rate=0.01,\n",
    "                                 parameters=model.parameters())\n",
    "\n",
    "for epoch in range(30):\n",
    "    for batch, (batch_x, batch_y) in enumerate(train_loader()):\n",
    "        y_pred = model(batch_x)\n",
    "        \n",
    "        # loss = F.mse_loss(y_pred, batch_y, reduction='mean')\n",
    "        loss = loss_fn(y_pred, batch_y)\n",
    "        loss.backward()\n",
    "        optimizer.step()\n",
    "        optimizer.clear_grad()\n",
    "    print(\"epoch {} loss {:.4f}\".format(epoch, float(loss)))"
   ]
  },
  {
   "cell_type": "code",
   "execution_count": 27,
   "metadata": {
    "pycharm": {
     "name": "#%%\n"
    },
    "colab": {
     "base_uri": "https://localhost:8080/",
     "height": 265
    },
    "id": "15GyMJNbMymA",
    "executionInfo": {
     "status": "ok",
     "timestamp": 1657194155081,
     "user_tz": -480,
     "elapsed": 13,
     "user": {
      "displayName": "陈成",
      "userId": "07346209167866063288"
     }
    },
    "outputId": "6ab6ee2f-d4ca-45f9-d7bb-a52b3953cfa1"
   },
   "outputs": [
    {
     "output_type": "display_data",
     "data": {
      "text/plain": [
       "<Figure size 432x288 with 1 Axes>"
      ],
      "image/png": "[encoded data removed]"
     },
     "metadata": {
      "needs_background": "light"
     }
    }
   ],
   "source": [
    "# test_dataset\n",
    "test_x = paddle.to_tensor(test_dataset.x, dtype=\"float32\")\n",
    "y_pred = model(test_x)\n",
    "# print(\"test_data_y\",test_dataset.y)\n",
    "# print(\"test_y_predict\",y_pred)\n",
    "plt.plot(test_dataset.y)\n",
    "plt.show()\n",
    "# print(test_dataset)\n",
    "# print(\"predict\", y_pred)"
   ]
  },
  {
   "cell_type": "code",
   "execution_count": 28,
   "metadata": {
    "pycharm": {
     "name": "#%%\n"
    },
    "colab": {
     "base_uri": "https://localhost:8080/"
    },
    "id": "uhMCjozRMymB",
    "executionInfo": {
     "status": "ok",
     "timestamp": 1657194155081,
     "user_tz": -480,
     "elapsed": 12,
     "user": {
      "displayName": "陈成",
      "userId": "07346209167866063288"
     }
    },
    "outputId": "6f8af456-3e52-43b8-b99d-679163c4a63b"
   },
   "outputs": [
    {
     "output_type": "stream",
     "name": "stdout",
     "text": [
      "293\n",
      "293\n",
      "MSE =  Tensor(shape=[1], dtype=float32, place=CUDAPlace(0), stop_gradient=False,\n",
      "       [0.02066652])\n"
     ]
    }
   ],
   "source": [
    "error_mse = []\n",
    "print(len(test_data[12:]))\n",
    "print(len(y_pred))\n",
    "# 因为前12个记录要作为特征，这里从第十三个记录开始计算MSE损失\n",
    "for i in range(len(test_data[12:])):\n",
    "    error_mse.append(test_data[12+i] - y_pred[i])\n",
    "squaredError = []\n",
    "absError = []\n",
    "for val in error_mse:\n",
    "    squaredError.append(val * val)#target-prediction之差平方\n",
    "print(\"MSE = \", sum(squaredError) / len(squaredError))#均方误差MSE"
   ]
  },
  {
   "cell_type": "code",
   "execution_count": 29,
   "metadata": {
    "pycharm": {
     "name": "#%%\n"
    },
    "id": "pFNq_1rAMymB",
    "executionInfo": {
     "status": "ok",
     "timestamp": 1657194155082,
     "user_tz": -480,
     "elapsed": 11,
     "user": {
      "displayName": "陈成",
      "userId": "07346209167866063288"
     }
    }
   },
   "outputs": [],
   "source": [
    "# print((test_data[12:]))\n",
    "# print((y_pred[0]))"
   ]
  },
  {
   "cell_type": "code",
   "execution_count": 30,
   "metadata": {
    "pycharm": {
     "name": "#%%\n"
    },
    "colab": {
     "base_uri": "https://localhost:8080/",
     "height": 282
    },
    "id": "llBjyfZDMymB",
    "executionInfo": {
     "status": "ok",
     "timestamp": 1657194155792,
     "user_tz": -480,
     "elapsed": 721,
     "user": {
      "displayName": "陈成",
      "userId": "07346209167866063288"
     }
    },
    "outputId": "8ed9d914-b921-405a-f1eb-44c9731a733f"
   },
   "outputs": [
    {
     "output_type": "execute_result",
     "data": {
      "text/plain": [
       "[<matplotlib.lines.Line2D at 0x7fa5f5931cd0>]"
      ]
     },
     "metadata": {},
     "execution_count": 30
    },
    {
     "output_type": "display_data",
     "data": {
      "text/plain": [
       "<Figure size 432x288 with 1 Axes>"
      ],
      "image/png": "[encoded data removed]"
     },
     "metadata": {
      "needs_background": "light"
     }
    }
   ],
   "source": [
    "plt.show()\n",
    "plt.plot(y_pred.numpy())"
   ]
  },
  {
   "cell_type": "code",
   "execution_count": 31,
   "metadata": {
    "pycharm": {
     "name": "#%%\n"
    },
    "colab": {
     "base_uri": "https://localhost:8080/",
     "height": 788
    },
    "id": "McM2z8KcMymB",
    "executionInfo": {
     "status": "ok",
     "timestamp": 1657194156838,
     "user_tz": -480,
     "elapsed": 1057,
     "user": {
      "displayName": "陈成",
      "userId": "07346209167866063288"
     }
    },
    "outputId": "8233590d-38ff-4d95-8089-22a5c31e98b3"
   },
   "outputs": [
    {
     "output_type": "stream",
     "name": "stdout",
     "text": [
      "The loss value printed in the log is the current step, and the metric is the average value of previous step.\n",
      "Epoch 1/10\n",
      "step 24/24 [==============================] - loss: 0.0209 - 4ms/step          \n",
      "Epoch 2/10\n",
      "step 24/24 [==============================] - loss: 0.0445 - 3ms/step          \n",
      "Epoch 3/10\n",
      "step 10/24 [===========>..................] - loss: 0.0540 - ETA: 0s - 3ms/step"
     ]
    },
    {
     "output_type": "stream",
     "name": "stderr",
     "text": [
      "/usr/local/lib/python3.7/dist-packages/paddle/fluid/dataloader/dataloader_iter.py:89: DeprecationWarning: `np.bool` is a deprecated alias for the builtin `bool`. To silence this warning, use `bool` by itself. Doing this will not modify any behavior and is safe. If you specifically wanted the numpy scalar type, use `np.bool_` here.\n",
      "Deprecated in NumPy 1.20; for more details and guidance: https://numpy.org/devdocs/release/1.20.0-notes.html#deprecations\n",
      "  if isinstance(slot[0], (np.ndarray, np.bool, numbers.Number)):\n",
      "/usr/local/lib/python3.7/dist-packages/paddle/fluid/layers/utils.py:77: DeprecationWarning: Using or importing the ABCs from 'collections' instead of from 'collections.abc' is deprecated since Python 3.3,and in 3.9 it will stop working\n",
      "  return (isinstance(seq, collections.Sequence) and\n"
     ]
    },
    {
     "output_type": "stream",
     "name": "stdout",
     "text": [
      "step 24/24 [==============================] - loss: 0.0172 - 3ms/step          \n",
      "Epoch 4/10\n",
      "step 24/24 [==============================] - loss: 0.0213 - 3ms/step          \n",
      "Epoch 5/10\n",
      "step 24/24 [==============================] - loss: 0.0207 - 3ms/step          \n",
      "Epoch 6/10\n",
      "step 24/24 [==============================] - loss: 0.0205 - 3ms/step          \n",
      "Epoch 7/10\n",
      "step 24/24 [==============================] - loss: 0.0204 - 3ms/step          \n",
      "Epoch 8/10\n",
      "step 24/24 [==============================] - loss: 0.0197 - 3ms/step          \n",
      "Epoch 9/10\n",
      "step 24/24 [==============================] - loss: 0.0180 - 3ms/step          \n",
      "Epoch 10/10\n",
      "step 24/24 [==============================] - loss: 0.0158 - 3ms/step          \n",
      "Predict begin...\n",
      "step 293/293 [==============================] - 3ms/step          \n",
      "Predict samples: 293\n"
     ]
    },
    {
     "output_type": "display_data",
     "data": {
      "text/plain": [
       "<Figure size 432x288 with 1 Axes>"
      ],
      "image/png": "[encoded data removed]"
     },
     "metadata": {
      "needs_background": "light"
     }
    }
   ],
   "source": [
    "model = paddle.Model(LSTM())\n",
    "model.prepare(optimizer=paddle.optimizer.Adam(learning_rate=0.01, parameters=model.parameters()),\n",
    "              loss=paddle.nn.MSELoss(reduction='mean'))\n",
    "model.fit(train_dataset,\n",
    "          epochs=10,\n",
    "          batch_size=12,\n",
    "          shuffle=False,  # True 和 False 对结果影响很大\n",
    "          drop_last=True,\n",
    "          verbose=1)\n",
    "y_pred = model.predict(test_dataset)\n",
    "plt.plot(test_dataset.y, c='blue')\n",
    "plt.plot(np.concatenate(y_pred), c='red')\n",
    "plt.show()"
   ]
  }
 ],
 "metadata": {
  "kernelspec": {
   "display_name": "Python 3",
   "language": "python",
   "name": "py35-paddle1.2.0"
  },
  "language_info": {
   "codemirror_mode": {
    "name": "ipython",
    "version": 3
   },
   "file_extension": ".py",
   "mimetype": "text/x-python",
   "name": "python",
   "nbconvert_exporter": "python",
   "pygments_lexer": "ipython3",
   "version": "3.7.4"
  },
  "colab": {
   "name": "task4.ipynb",
   "provenance": [],
   "collapsed_sections": [],
   "machine_shape": "hm"
  },
  "accelerator": "GPU",
  "gpuClass": "standard"
 },
 "nbformat": 4,
 "nbformat_minor": 0
}